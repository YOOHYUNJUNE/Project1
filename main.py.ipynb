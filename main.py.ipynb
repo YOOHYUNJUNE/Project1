{
 "cells": [
  {
   "cell_type": "code",
   "execution_count": 4,
   "id": "9f89b9b0-f3a9-4697-ac36-99f74cb46673",
   "metadata": {},
   "outputs": [
    {
     "name": "stdout",
     "output_type": "stream",
     "text": [
      "100 + 200 = 300\n"
     ]
    }
   ],
   "source": [
    "## 함수 선언부\n",
    "def add_func(n1,n2):\n",
    "    return n1 + n2\n",
    "\n",
    "\n",
    "\n",
    "\n",
    "## 전역 변수부\n",
    "num1, num2 = 100, 200\n",
    "result = 0\n",
    "\n",
    "\n",
    "\n",
    "\n",
    "# 메인 코드부\n",
    "result = add_func(num1, num2)\n",
    "print(num1, '+', num2, '=', result)\n"
   ]
  },
  {
   "cell_type": "code",
   "execution_count": null,
   "id": "bc5a01dd-d85a-4723-9acf-7fa2ff32a51d",
   "metadata": {},
   "outputs": [],
   "source": []
  },
  {
   "cell_type": "code",
   "execution_count": null,
   "id": "e4942425-13f3-430a-8c98-64ce3f17b167",
   "metadata": {},
   "outputs": [],
   "source": []
  },
  {
   "cell_type": "code",
   "execution_count": null,
   "id": "d8539262-a426-44a5-a0a4-0d58a7eed84e",
   "metadata": {},
   "outputs": [],
   "source": []
  },
  {
   "cell_type": "code",
   "execution_count": null,
   "id": "de0c5c6f-2a3f-4b4d-b55c-53d5b11b8919",
   "metadata": {},
   "outputs": [],
   "source": []
  },
  {
   "cell_type": "code",
   "execution_count": null,
   "id": "4130634e-85b9-4f54-83b0-791f2c197536",
   "metadata": {},
   "outputs": [],
   "source": []
  },
  {
   "cell_type": "code",
   "execution_count": null,
   "id": "6af5581e-d34c-4bfe-baa7-c0624bb8d281",
   "metadata": {},
   "outputs": [],
   "source": []
  },
  {
   "cell_type": "code",
   "execution_count": null,
   "id": "5d2dfc32-a311-4d71-a701-28e1353c92b5",
   "metadata": {},
   "outputs": [],
   "source": []
  },
  {
   "cell_type": "code",
   "execution_count": null,
   "id": "920d0e8e-4352-4e91-b484-5356f9c9db96",
   "metadata": {},
   "outputs": [],
   "source": []
  },
  {
   "cell_type": "code",
   "execution_count": null,
   "id": "7ce03c6f-3978-45a9-ac93-fbefb2caa008",
   "metadata": {},
   "outputs": [],
   "source": []
  },
  {
   "cell_type": "code",
   "execution_count": null,
   "id": "0546b855-95fa-42d1-8d53-683002dd571e",
   "metadata": {},
   "outputs": [],
   "source": []
  },
  {
   "cell_type": "code",
   "execution_count": null,
   "id": "b698f958-c978-4bc4-a6e7-d6f67f556181",
   "metadata": {},
   "outputs": [],
   "source": []
  },
  {
   "cell_type": "code",
   "execution_count": null,
   "id": "87c18b3b-8920-474f-91a6-8df2e041dcd7",
   "metadata": {},
   "outputs": [],
   "source": []
  }
 ],
 "metadata": {
  "kernelspec": {
   "display_name": "Python 3 (ipykernel)",
   "language": "python",
   "name": "python3"
  },
  "language_info": {
   "codemirror_mode": {
    "name": "ipython",
    "version": 3
   },
   "file_extension": ".py",
   "mimetype": "text/x-python",
   "name": "python",
   "nbconvert_exporter": "python",
   "pygments_lexer": "ipython3",
   "version": "3.11.4"
  }
 },
 "nbformat": 4,
 "nbformat_minor": 5
}
